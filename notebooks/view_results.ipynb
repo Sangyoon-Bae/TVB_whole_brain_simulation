{
 "cells": [
  {
   "cell_type": "code",
   "execution_count": 1,
   "id": "b3d0c328",
   "metadata": {},
   "outputs": [],
   "source": [
    "import numpy as np"
   ]
  },
  {
   "cell_type": "code",
   "execution_count": 2,
   "id": "dc0c2fef",
   "metadata": {},
   "outputs": [],
   "source": [
    "bold = np.load('../results/sim_48nodes_375tp_TR0.8_bold.npy')"
   ]
  },
  {
   "cell_type": "code",
   "execution_count": 3,
   "id": "7dafb508",
   "metadata": {},
   "outputs": [
    {
     "data": {
      "text/plain": [
       "(48, 375)"
      ]
     },
     "execution_count": 3,
     "metadata": {},
     "output_type": "execute_result"
    }
   ],
   "source": [
    "bold.shape"
   ]
  },
  {
   "cell_type": "code",
   "execution_count": 4,
   "id": "2750f46a",
   "metadata": {},
   "outputs": [],
   "source": [
    "neural = np.load('../results/sim_48nodes_375tp_TR0.8_neural.npy')"
   ]
  },
  {
   "cell_type": "code",
   "execution_count": 5,
   "id": "47c61e00",
   "metadata": {},
   "outputs": [
    {
     "data": {
      "text/plain": [
       "(48, 375)"
      ]
     },
     "execution_count": 5,
     "metadata": {},
     "output_type": "execute_result"
    }
   ],
   "source": [
    "neural.shape"
   ]
  },
  {
   "cell_type": "code",
   "execution_count": 6,
   "id": "0bb353a1",
   "metadata": {},
   "outputs": [],
   "source": [
    "peak_amp = np.load('../results/sim_48nodes_375tp_TR0.8_peak_amplitudes_all.npy', allow_pickle=True)"
   ]
  },
  {
   "cell_type": "code",
   "execution_count": 7,
   "id": "72bcebfc",
   "metadata": {},
   "outputs": [
    {
     "data": {
      "text/plain": [
       "(48,)"
      ]
     },
     "execution_count": 7,
     "metadata": {},
     "output_type": "execute_result"
    }
   ],
   "source": [
    "peak_amp.shape"
   ]
  },
  {
   "cell_type": "code",
   "execution_count": 8,
   "id": "b32cbb0e",
   "metadata": {},
   "outputs": [
    {
     "data": {
      "text/plain": [
       "(12,)"
      ]
     },
     "execution_count": 8,
     "metadata": {},
     "output_type": "execute_result"
    }
   ],
   "source": [
    "peak_amp[0].shape"
   ]
  },
  {
   "cell_type": "code",
   "execution_count": 9,
   "id": "a39daf45",
   "metadata": {},
   "outputs": [],
   "source": [
    "raw_neural = np.load('../results/sim_48nodes_375tp_TR0.8_raw_neural.npy')"
   ]
  },
  {
   "cell_type": "code",
   "execution_count": 10,
   "id": "582b67bc",
   "metadata": {},
   "outputs": [
    {
     "data": {
      "text/plain": [
       "(48, 4800000)"
      ]
     },
     "execution_count": 10,
     "metadata": {},
     "output_type": "execute_result"
    }
   ],
   "source": [
    "raw_neural.shape"
   ]
  },
  {
   "cell_type": "code",
   "execution_count": null,
   "id": "4709e9ea",
   "metadata": {},
   "outputs": [],
   "source": []
  }
 ],
 "metadata": {
  "kernelspec": {
   "display_name": "Python 3 (ipykernel)",
   "language": "python",
   "name": "python3"
  },
  "language_info": {
   "codemirror_mode": {
    "name": "ipython",
    "version": 3
   },
   "file_extension": ".py",
   "mimetype": "text/x-python",
   "name": "python",
   "nbconvert_exporter": "python",
   "pygments_lexer": "ipython3",
   "version": "3.8.5"
  }
 },
 "nbformat": 4,
 "nbformat_minor": 5
}
