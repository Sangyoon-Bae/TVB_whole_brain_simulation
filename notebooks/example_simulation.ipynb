{
 "cells": [
  {
   "cell_type": "markdown",
   "metadata": {},
   "source": [
    "# Brain Simulation with TVB - Interactive Example\n",
    "\n",
    "This notebook demonstrates how to run and visualize whole-brain simulations using The Virtual Brain."
   ]
  },
  {
   "cell_type": "code",
   "execution_count": null,
   "metadata": {},
   "outputs": [],
   "source": [
    "import sys\n",
    "sys.path.append('../src')\n",
    "\n",
    "import numpy as np\n",
    "import matplotlib.pyplot as plt\n",
    "from simulation import BrainSimulation\n",
    "from visualization import SimulationVisualizer\n",
    "from analysis import SimulationAnalyzer\n",
    "\n",
    "%matplotlib inline"
   ]
  },
  {
   "cell_type": "markdown",
   "metadata": {},
   "source": [
    "## 1. Run a 48-node simulation"
   ]
  },
  {
   "cell_type": "code",
   "execution_count": null,
   "metadata": {},
   "outputs": [],
   "source": [
    "# Initialize simulation\n",
    "sim = BrainSimulation(\n",
    "    num_nodes=48,\n",
    "    simulation_length=10000,  # 10 seconds\n",
    "    model_type='wong_wang'\n",
    ")\n",
    "\n",
    "# Run simulation\n",
    "results = sim.run_simulation()\n",
    "\n",
    "# Save results\n",
    "output_path = sim.save_results('../results/example_48nodes.h5')\n",
    "print(f\"Results saved to {output_path}\")"
   ]
  },
  {
   "cell_type": "markdown",
   "metadata": {},
   "source": [
    "## 2. Visualize time series"
   ]
  },
  {
   "cell_type": "code",
   "execution_count": null,
   "metadata": {},
   "outputs": [],
   "source": [
    "# Load and visualize\n",
    "vis = SimulationVisualizer('../results/example_48nodes.h5')\n",
    "vis.plot_time_series(monitor='Raw', regions=[0, 1, 2, 3, 4])\n",
    "plt.show()"
   ]
  },
  {
   "cell_type": "markdown",
   "metadata": {},
   "source": [
    "## 3. Analyze connectivity"
   ]
  },
  {
   "cell_type": "code",
   "execution_count": null,
   "metadata": {},
   "outputs": [],
   "source": [
    "# Plot structural connectivity\n",
    "vis.plot_connectivity_matrix()\n",
    "plt.show()"
   ]
  },
  {
   "cell_type": "markdown",
   "metadata": {},
   "source": [
    "## 4. Compute and visualize functional connectivity"
   ]
  },
  {
   "cell_type": "code",
   "execution_count": null,
   "metadata": {},
   "outputs": [],
   "source": [
    "# Functional connectivity\n",
    "fig, fc = vis.plot_functional_connectivity(monitor='Raw')\n",
    "plt.show()\n",
    "\n",
    "print(f\"Mean FC: {fc[np.triu_indices_from(fc, k=1)].mean():.3f}\")"
   ]
  },
  {
   "cell_type": "markdown",
   "metadata": {},
   "source": [
    "## 5. Power spectrum analysis"
   ]
  },
  {
   "cell_type": "code",
   "execution_count": null,
   "metadata": {},
   "outputs": [],
   "source": [
    "# Power spectrum\n",
    "vis.plot_power_spectrum(monitor='Raw', regions=[0, 1, 2])\n",
    "plt.show()"
   ]
  },
  {
   "cell_type": "markdown",
   "metadata": {},
   "source": [
    "## 6. Summary statistics"
   ]
  },
  {
   "cell_type": "code",
   "execution_count": null,
   "metadata": {},
   "outputs": [],
   "source": [
    "# Compute analysis metrics\n",
    "analyzer = SimulationAnalyzer('../results/example_48nodes.h5')\n",
    "stats = analyzer.summary_statistics()\n",
    "\n",
    "for monitor, metrics in stats.items():\n",
    "    print(f\"\\n{monitor} Monitor:\")\n",
    "    for key, value in metrics.items():\n",
    "        print(f\"  {key}: {value:.4f}\")"
   ]
  },
  {
   "cell_type": "markdown",
   "metadata": {},
   "source": [
    "## 7. Generate complete report"
   ]
  },
  {
   "cell_type": "code",
   "execution_count": null,
   "metadata": {},
   "outputs": [],
   "source": [
    "# Create comprehensive visualization report\n",
    "vis.create_summary_report('../visualizations/example_48nodes')"
   ]
  }
 ],
 "metadata": {
  "kernelspec": {
   "display_name": "Python 3",
   "language": "python",
   "name": "python3"
  },
  "language_info": {
   "codemirror_mode": {
    "name": "ipython",
    "version": 3
   },
   "file_extension": ".py",
   "mimetype": "text/x-python",
   "name": "python",
   "nbconvert_exporter": "python",
   "pygments_lexer": "ipython3",
   "version": "3.8.0"
  }
 },
 "nbformat": 4,
 "nbformat_minor": 4
}
